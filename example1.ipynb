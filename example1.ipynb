{
 "cells": [
  {
   "cell_type": "markdown",
   "metadata": {},
   "source": [
    "## Linear Algebra"
   ]
  },
  {
   "cell_type": "code",
   "execution_count": 1,
   "metadata": {},
   "outputs": [],
   "source": [
    "import numpy as np"
   ]
  },
  {
   "cell_type": "code",
   "execution_count": 2,
   "metadata": {},
   "outputs": [
    {
     "name": "stdout",
     "output_type": "stream",
     "text": [
      "[[10 15]]\n",
      "[[20  9]]\n"
     ]
    },
    {
     "data": {
      "text/plain": [
       "array([[30, 24]])"
      ]
     },
     "execution_count": 2,
     "metadata": {},
     "output_type": "execute_result"
    }
   ],
   "source": [
    "a = np.array([[10, 15]])\n",
    "b = np.array([[20,9]])\n",
    "\n",
    "print(a)\n",
    "print(b)\n",
    "# print()\n",
    "a+b"
   ]
  },
  {
   "cell_type": "code",
   "execution_count": 3,
   "metadata": {},
   "outputs": [
    {
     "data": {
      "text/plain": [
       "array([[-10,   6]])"
      ]
     },
     "execution_count": 3,
     "metadata": {},
     "output_type": "execute_result"
    }
   ],
   "source": [
    "a-b"
   ]
  },
  {
   "cell_type": "code",
   "execution_count": 4,
   "metadata": {},
   "outputs": [
    {
     "data": {
      "text/plain": [
       "array([[200, 135]])"
      ]
     },
     "execution_count": 4,
     "metadata": {},
     "output_type": "execute_result"
    }
   ],
   "source": [
    "a * b"
   ]
  },
  {
   "cell_type": "code",
   "execution_count": 5,
   "metadata": {},
   "outputs": [
    {
     "data": {
      "text/plain": [
       "array([[-10],\n",
       "       [  6]])"
      ]
     },
     "execution_count": 5,
     "metadata": {},
     "output_type": "execute_result"
    }
   ],
   "source": [
    "(a - b).T"
   ]
  },
  {
   "cell_type": "code",
   "execution_count": 6,
   "metadata": {},
   "outputs": [
    {
     "name": "stdout",
     "output_type": "stream",
     "text": [
      "[[1. 0.]\n",
      " [0. 1.]]= I1\n",
      "\n",
      "[[1. 0. 0.]\n",
      " [0. 1. 0.]\n",
      " [0. 0. 1.]]= I2\n",
      "\n"
     ]
    }
   ],
   "source": [
    "# Create an Identity matrix \n",
    "I1 = np.eye(2)\n",
    "I2 = np.eye(3)\n",
    "\n",
    "print(I1, end = \"= I1\\n\\n\")\n",
    "print(I2, end = \"= I2\\n\\n\")"
   ]
  },
  {
   "cell_type": "code",
   "execution_count": 7,
   "metadata": {},
   "outputs": [
    {
     "name": "stdout",
     "output_type": "stream",
     "text": [
      "Inverse of A:\n",
      " [[-0.33333333 -2.11111111  1.44444444]\n",
      " [ 0.66666667  1.22222222 -0.88888889]\n",
      " [-0.33333333  0.55555556 -0.22222222]]\n"
     ]
    }
   ],
   "source": [
    "# Inverse of a Matrix \n",
    "\n",
    "\n",
    "A = np.array([[2, 3, 1], \n",
    "              [4, 5, 6], \n",
    "              [7, 8, 9]])\n",
    "\n",
    "A_inv = np.linalg.inv(A)\n",
    "\n",
    "print(\"Inverse of A:\\n\", A_inv)\n"
   ]
  },
  {
   "cell_type": "code",
   "execution_count": 8,
   "metadata": {},
   "outputs": [
    {
     "data": {
      "text/plain": [
       "array([[1.00000000e+00, 0.00000000e+00, 1.11022302e-16],\n",
       "       [1.11022302e-16, 1.00000000e+00, 0.00000000e+00],\n",
       "       [1.66533454e-16, 1.77635684e-15, 1.00000000e+00]])"
      ]
     },
     "execution_count": 8,
     "metadata": {},
     "output_type": "execute_result"
    }
   ],
   "source": [
    "# Cross verify \n",
    "np.dot(A, A_inv)"
   ]
  },
  {
   "cell_type": "code",
   "execution_count": 9,
   "metadata": {},
   "outputs": [
    {
     "data": {
      "text/plain": [
       "array([[1.00000000e+00, 0.00000000e+00, 1.11022302e-16],\n",
       "       [1.11022302e-16, 1.00000000e+00, 0.00000000e+00],\n",
       "       [1.66533454e-16, 1.77635684e-15, 1.00000000e+00]])"
      ]
     },
     "execution_count": 9,
     "metadata": {},
     "output_type": "execute_result"
    }
   ],
   "source": [
    "A @ A_inv"
   ]
  },
  {
   "cell_type": "code",
   "execution_count": 10,
   "metadata": {},
   "outputs": [
    {
     "name": "stdout",
     "output_type": "stream",
     "text": [
      "Iterations  1 \n",
      "X value is  4.8\n",
      "Iterations  2 \n",
      "X value is  4.604\n",
      "Iterations  3 \n",
      "X value is  4.41192\n",
      "Iterations  4 \n",
      "X value is  4.2236816\n",
      "Iterations  5 \n",
      "X value is  4.039207968\n",
      "Iterations  6 \n",
      "X value is  3.8584238086400005\n",
      "Iterations  7 \n",
      "X value is  3.6812553324672006\n",
      "Iterations  8 \n",
      "X value is  3.5076302258178567\n",
      "Iterations  9 \n",
      "X value is  3.3374776213014994\n",
      "Iterations  10 \n",
      "X value is  3.1707280688754693\n",
      "Iterations  11 \n",
      "X value is  3.00731350749796\n",
      "Iterations  12 \n",
      "X value is  2.8471672373480006\n",
      "Iterations  13 \n",
      "X value is  2.6902238926010407\n",
      "Iterations  14 \n",
      "X value is  2.53641941474902\n",
      "Iterations  15 \n",
      "X value is  2.3856910264540394\n",
      "Iterations  16 \n",
      "X value is  2.2379772059249587\n",
      "Iterations  17 \n",
      "X value is  2.0932176618064595\n",
      "Iterations  18 \n",
      "X value is  1.9513533085703303\n",
      "Iterations  19 \n",
      "X value is  1.8123262423989237\n",
      "Iterations  20 \n",
      "X value is  1.6760797175509452\n",
      "Iterations  21 \n",
      "X value is  1.5425581231999264\n",
      "Iterations  22 \n",
      "X value is  1.4117069607359278\n",
      "Iterations  23 \n",
      "X value is  1.2834728215212092\n",
      "Iterations  24 \n",
      "X value is  1.157803365090785\n",
      "Iterations  25 \n",
      "X value is  1.0346472977889694\n",
      "Iterations  26 \n",
      "X value is  0.91395435183319\n",
      "Iterations  27 \n",
      "X value is  0.7956752647965262\n",
      "Iterations  28 \n",
      "X value is  0.6797617595005956\n",
      "Iterations  29 \n",
      "X value is  0.5661665243105837\n",
      "Iterations  30 \n",
      "X value is  0.454843193824372\n",
      "Iterations  31 \n",
      "X value is  0.34574632994788457\n",
      "Iterations  32 \n",
      "X value is  0.23883140334892689\n",
      "Iterations  33 \n",
      "X value is  0.13405477528194834\n",
      "Iterations  34 \n",
      "X value is  0.031373679776309366\n",
      "Iterations  35 \n",
      "X value is  -0.06925379381921683\n",
      "Iterations  36 \n",
      "X value is  -0.16786871794283248\n",
      "The local minimum occurs at  -0.16786871794283248\n"
     ]
    }
   ],
   "source": [
    "# Application of calculus is to use it to find the local maxima and minima in the Gradient Decent\n",
    "\n",
    "cur_x = 5 # Algorithm starts at 3 \n",
    "rate = 0.01 #  Learning Rate \n",
    "precision  =  0.1 # This tells us when to stop the algorithm \n",
    "previous_step_size = 1\n",
    "max_iterations = 10000000\n",
    "iters = 0 # iteration counter \n",
    "\n",
    "df = lambda x : 2*(x +5)\n",
    "\n",
    "while previous_step_size > precision and iters < max_iterations : \n",
    "    prev_x = cur_x \n",
    "    cur_x = cur_x - rate * df(prev_x)\n",
    "    previous_step_size = abs(cur_x - prev_x)\n",
    "    iters += 1\n",
    "    print(\"Iterations \", iters, \"\\nX value is \", cur_x)\n",
    "\n",
    "print(\"The local minimum occurs at \", cur_x)"
   ]
  },
  {
   "cell_type": "code",
   "execution_count": 11,
   "metadata": {},
   "outputs": [
    {
     "data": {
      "image/png": "[encoded data removed]",
      "text/plain": [
       "<Figure size 800x600 with 1 Axes>"
      ]
     },
     "metadata": {},
     "output_type": "display_data"
    }
   ],
   "source": [
    "\n",
    "\n",
    "import numpy as np\n",
    "import matplotlib.pyplot as plt\n",
    "\n",
    "# Define the function f(x) and its derivative df(x)\n",
    "f = lambda x: (x + 5)**2\n",
    "df = lambda x: 2 * (x + 5)\n",
    "\n",
    "# Gradient Descent Parameters\n",
    "cur_x = 5  # Starting point\n",
    "rate = 0.1  # Learning rate\n",
    "precision = 0.5  # Stop when step size is smaller\n",
    "previous_step_size = 1\n",
    "max_iterations = 100\n",
    "iters = 0  # Iteration counter\n",
    "\n",
    "# Store x values for visualization\n",
    "x_values = [cur_x]\n",
    "\n",
    "# Gradient Descent Loop\n",
    "while previous_step_size > precision and iters < max_iterations:\n",
    "    prev_x = cur_x\n",
    "    cur_x = cur_x - rate * df(prev_x)  # Update x using gradient\n",
    "    previous_step_size = abs(cur_x - prev_x)  # Change in x\n",
    "    iters += 1\n",
    "    x_values.append(cur_x)  # Store for visualization\n",
    "\n",
    "# Plot the function f(x)\n",
    "x = np.linspace(-10, 5, 400)  # Generate x values for plotting\n",
    "y = f(x)  # Compute function values\n",
    "\n",
    "plt.figure(figsize=(8, 6))\n",
    "plt.plot(x, y, label=\"f(x) = (x + 5)^2\", color=\"blue\")\n",
    "plt.scatter(x_values, [f(x) for x in x_values], color=\"red\", marker=\"o\", label=\"Gradient Descent Steps\")\n",
    "plt.xlabel(\"x\")\n",
    "plt.ylabel(\"f(x)\")\n",
    "plt.title(\"Gradient Descent Visualization\")\n",
    "plt.legend()\n",
    "plt.grid()\n",
    "plt.show()\n"
   ]
  },
  {
   "cell_type": "code",
   "execution_count": 12,
   "metadata": {},
   "outputs": [
    {
     "name": "stdout",
     "output_type": "stream",
     "text": [
      "Iterartion 1 values if x : 4.0\n",
      "Iterartion 2 values if x : 3.1\n",
      "Iterartion 3 values if x : 2.29\n",
      "Iterartion 4 values if x : 1.561\n",
      "Iterartion 5 values if x : 0.9048999999999999\n",
      "Iterartion 6 values if x : 0.31440999999999997\n",
      "Iterartion 7 values if x : -0.21703099999999997\n",
      "Iterartion 8 values if x : -0.6953278999999999\n",
      "Iterartion 9 values if x : -1.1257951099999999\n",
      "Iterartion 10 values if x : -1.513215599\n",
      "Iterartion 11 values if x : -1.8618940391\n",
      "Iterartion 12 values if x : -2.1757046351900002\n",
      "Iterartion 13 values if x : -2.4581341716710003\n",
      "Iterartion 14 values if x : -2.7123207545039003\n",
      "Iterartion 15 values if x : -2.9410886790535105\n",
      "Iterartion 16 values if x : -3.1469798111481593\n",
      "Iterartion 17 values if x : -3.3322818300333434\n",
      "Iterartion 18 values if x : -3.499053647030009\n",
      "Iterartion 19 values if x : -3.6491482823270083\n",
      "Iterartion 20 values if x : -3.7842334540943074\n",
      "Iterartion 21 values if x : -3.905810108684877\n",
      "Iterartion 22 values if x : -4.015229097816389\n",
      "Iterartion 23 values if x : -4.11370618803475\n",
      "Iterartion 24 values if x : -4.202335569231275\n",
      "Iterartion 25 values if x : -4.2821020123081475\n",
      "Iterartion 26 values if x : -4.353891811077332\n",
      "Iterartion 27 values if x : -4.418502629969599\n",
      "Iterartion 28 values if x : -4.4766523669726395\n",
      "Iterartion 29 values if x : -4.528987130275375\n",
      "Iterartion 30 values if x : -4.5760884172478375\n",
      "Iterartion 31 values if x : -4.618479575523054\n",
      "Iterartion 32 values if x : -4.656631617970748\n",
      "Iterartion 33 values if x : -4.690968456173674\n",
      "Iterartion 34 values if x : -4.721871610556306\n",
      "Iterartion 35 values if x : -4.749684449500675\n",
      "Iterartion 36 values if x : -4.774716004550608\n",
      "Iterartion 37 values if x : -4.797244404095547\n",
      "Iterartion 38 values if x : -4.817519963685992\n",
      "Iterartion 39 values if x : -4.835767967317393\n",
      "Iterartion 40 values if x : -4.8521911705856535\n",
      "Iterartion 41 values if x : -4.866972053527088\n",
      "Iterartion 42 values if x : -4.88027484817438\n",
      "Iterartion 43 values if x : -4.892247363356942\n",
      "Iterartion 44 values if x : -4.903022627021248\n",
      "Iterartion 45 values if x : -4.9127203643191235\n",
      "Iterartion 46 values if x : -4.921448327887211\n",
      "Iterartion 47 values if x : -4.92930349509849\n",
      "Iterartion 48 values if x : -4.936373145588641\n",
      "Iterartion 49 values if x : -4.942735831029777\n",
      "Iterartion 50 values if x : -4.948462247926799\n",
      "Iterartion 51 values if x : -4.953616023134119\n",
      "Iterartion 52 values if x : -4.958254420820707\n",
      "Iterartion 53 values if x : -4.962428978738637\n",
      "Iterartion 54 values if x : -4.966186080864773\n",
      "Iterartion 55 values if x : -4.969567472778296\n",
      "Iterartion 56 values if x : -4.972610725500466\n",
      "Iterartion 57 values if x : -4.9753496529504195\n",
      "Iterartion 58 values if x : -4.9778146876553775\n",
      "Iterartion 59 values if x : -4.98003321888984\n",
      "Iterartion 60 values if x : -4.9820298970008565\n",
      "Iterartion 61 values if x : -4.983826907300771\n",
      "Iterartion 62 values if x : -4.985444216570694\n",
      "Iterartion 63 values if x : -4.986899794913625\n",
      "Iterartion 64 values if x : -4.9882098154222625\n",
      "Iterartion 65 values if x : -4.989388833880036\n",
      "Iterartion 66 values if x : -4.9904499504920325\n",
      "Iterartion 67 values if x : -4.991404955442829\n",
      "Iterartion 68 values if x : -4.992264459898546\n",
      "Iterartion 69 values if x : -4.993038013908691\n",
      "Iterartion 70 values if x : -4.993734212517822\n",
      "Iterartion 71 values if x : -4.99436079126604\n",
      "Iterartion 72 values if x : -4.994924712139436\n",
      "Iterartion 73 values if x : -4.995432240925492\n",
      "Iterartion 74 values if x : -4.995889016832943\n",
      "Iterartion 75 values if x : -4.996300115149649\n",
      "Iterartion 76 values if x : -4.996670103634684\n",
      "Iterartion 77 values if x : -4.997003093271216\n",
      "Iterartion 78 values if x : -4.997302783944094\n",
      "Iterartion 79 values if x : -4.997572505549685\n",
      "Iterartion 80 values if x : -4.997815254994716\n",
      "Iterartion 81 values if x : -4.998033729495244\n",
      "Iterartion 82 values if x : -4.99823035654572\n",
      "Iterartion 83 values if x : -4.998407320891148\n",
      "Iterartion 84 values if x : -4.998566588802033\n",
      "Iterartion 85 values if x : -4.99870992992183\n",
      "Iterartion 86 values if x : -4.998838936929647\n",
      "Iterartion 87 values if x : -4.998955043236682\n",
      "Iterartion 88 values if x : -4.999059538913014\n",
      "Iterartion 89 values if x : -4.999153585021713\n",
      "Iterartion 90 values if x : -4.999238226519541\n",
      "Iterartion 91 values if x : -4.9993144038675865\n",
      "Iterartion 92 values if x : -4.999382963480828\n",
      "Iterartion 93 values if x : -4.999444667132745\n",
      "Iterartion 94 values if x : -4.999500200419471\n",
      "Iterartion 95 values if x : -4.999550180377524\n",
      "Iterartion 96 values if x : -4.999595162339771\n",
      "Iterartion 97 values if x : -4.999635646105794\n",
      "Iterartion 98 values if x : -4.9996720814952145\n",
      "Iterartion 99 values if x : -4.999704873345693\n",
      "Iterartion 100 values if x : -4.999734386011124\n",
      "Iterartion 101 values if x : -4.999760947410011\n",
      "Iterartion 102 values if x : -4.99978485266901\n",
      "Iterartion 103 values if x : -4.999806367402109\n",
      "Iterartion 104 values if x : -4.9998257306618985\n",
      "Iterartion 105 values if x : -4.999843157595708\n",
      "Iterartion 106 values if x : -4.999858841836137\n",
      "Iterartion 107 values if x : -4.999872957652523\n",
      "Iterartion 108 values if x : -4.999885661887271\n",
      "Iterartion 109 values if x : -4.999897095698544\n",
      "Iterartion 110 values if x : -4.999907386128689\n",
      "Iterartion 111 values if x : -4.99991664751582\n",
      "Iterartion 112 values if x : -4.999924982764238\n",
      "Iterartion 113 values if x : -4.999932484487815\n",
      "Iterartion 114 values if x : -4.999939236039033\n",
      "Iterartion 115 values if x : -4.99994531243513\n",
      "Iterartion 116 values if x : -4.999950781191616\n",
      "Iterartion 117 values if x : -4.999955703072454\n",
      "Iterartion 118 values if x : -4.999960132765209\n",
      "Iterartion 119 values if x : -4.999964119488689\n",
      "Iterartion 120 values if x : -4.9999677075398195\n",
      "Iterartion 121 values if x : -4.999970936785838\n",
      "Iterartion 122 values if x : -4.999973843107254\n",
      "Iterartion 123 values if x : -4.999976458796529\n",
      "Iterartion 124 values if x : -4.999978812916876\n",
      "Iterartion 125 values if x : -4.999980931625188\n",
      "Iterartion 126 values if x : -4.999982838462669\n",
      "Iterartion 127 values if x : -4.999984554616402\n",
      "Iterartion 128 values if x : -4.9999860991547616\n",
      "Iterartion 129 values if x : -4.9999874892392855\n",
      "Iterartion 130 values if x : -4.999988740315357\n",
      "Iterartion 131 values if x : -4.999989866283821\n",
      "Iterartion 132 values if x : -4.999990879655439\n",
      "Iterartion 133 values if x : -4.999991791689895\n",
      "The local minimum occurs at  -4.999991791689895\n"
     ]
    }
   ],
   "source": [
    "cur_x = 5  # Start at x = 5\n",
    "rate = 0.05  # Increased learning rate for faster convergence\n",
    "precision = 1e-6  # Higher precision to reach closer to -5\n",
    "previous_step_size = 1\n",
    "max_iterations = 1000000  # Allow more iterations if needed\n",
    "iters = 0  # Iteration counter\n",
    "\n",
    "df = lambda x: 2 * (x + 5)  # Gradient of f(x) = (x + 5)^2\n",
    "\n",
    "while previous_step_size > precision and iters < max_iterations:\n",
    "    prev_x = cur_x\n",
    "    cur_x = cur_x - rate * df(prev_x)\n",
    "    previous_step_size = abs(cur_x - prev_x)\n",
    "    iters += 1\n",
    "    print(\"Iterartion\", iters, \"values if x :\",cur_x)\n",
    "\n",
    "print(\"The local minimum occurs at \", cur_x)\n"
   ]
  },
  {
   "cell_type": "markdown",
   "metadata": {},
   "source": [
    "# Statistics\n"
   ]
  },
  {
   "cell_type": "code",
   "execution_count": 13,
   "metadata": {},
   "outputs": [],
   "source": [
    "import pandas as pd"
   ]
  },
  {
   "cell_type": "code",
   "execution_count": 14,
   "metadata": {},
   "outputs": [
    {
     "data": {
      "text/html": [
       "<div>\n",
       "<style scoped>\n",
       "    .dataframe tbody tr th:only-of-type {\n",
       "        vertical-align: middle;\n",
       "    }\n",
       "\n",
       "    .dataframe tbody tr th {\n",
       "        vertical-align: top;\n",
       "    }\n",
       "\n",
       "    .dataframe thead th {\n",
       "        text-align: right;\n",
       "    }\n",
       "</style>\n",
       "<table border=\"1\" class=\"dataframe\">\n",
       "  <thead>\n",
       "    <tr style=\"text-align: right;\">\n",
       "      <th></th>\n",
       "      <th>Employee</th>\n",
       "      <th>Salary</th>\n",
       "    </tr>\n",
       "  </thead>\n",
       "  <tbody>\n",
       "    <tr>\n",
       "      <th>0</th>\n",
       "      <td>Alice</td>\n",
       "      <td>55000</td>\n",
       "    </tr>\n",
       "    <tr>\n",
       "      <th>1</th>\n",
       "      <td>Bob</td>\n",
       "      <td>62000</td>\n",
       "    </tr>\n",
       "    <tr>\n",
       "      <th>2</th>\n",
       "      <td>Charlie</td>\n",
       "      <td>75000</td>\n",
       "    </tr>\n",
       "    <tr>\n",
       "      <th>3</th>\n",
       "      <td>David</td>\n",
       "      <td>48000</td>\n",
       "    </tr>\n",
       "    <tr>\n",
       "      <th>4</th>\n",
       "      <td>Eve</td>\n",
       "      <td>92000</td>\n",
       "    </tr>\n",
       "  </tbody>\n",
       "</table>\n",
       "</div>"
      ],
      "text/plain": [
       "  Employee  Salary\n",
       "0    Alice   55000\n",
       "1      Bob   62000\n",
       "2  Charlie   75000\n",
       "3    David   48000\n",
       "4      Eve   92000"
      ]
     },
     "execution_count": 14,
     "metadata": {},
     "output_type": "execute_result"
    }
   ],
   "source": [
    "data = {\n",
    "    \"Employee\": [\"Alice\", \"Bob\", \"Charlie\", \"David\", \"Eve\", \"Frank\", \"Grace\", \"Hannah\", \"Ian\"],\n",
    "    \"Salary\": [55000, 62000, 75000, 48000, 92000, 58000, 67000, 72000, 72000]\n",
    "}\n",
    "\n",
    "df = pd.DataFrame(data)\n",
    "df.head()\n"
   ]
  },
  {
   "cell_type": "code",
   "execution_count": 15,
   "metadata": {},
   "outputs": [
    {
     "name": "stdout",
     "output_type": "stream",
     "text": [
      "66777.77777777778\n",
      "67000.0\n",
      "Mode 0    72000\n",
      "Name: Salary, dtype: int64\n"
     ]
    }
   ],
   "source": [
    "# calculate the mean\n",
    "\n",
    "print(df['Salary'].mean())\n",
    "print(df['Salary'].median())\n",
    "\n",
    "print('Mode', df['Salary'].mode())"
   ]
  },
  {
   "cell_type": "code",
   "execution_count": 16,
   "metadata": {},
   "outputs": [
    {
     "data": {
      "text/plain": [
       "count        9.000000\n",
       "mean     66777.777778\n",
       "std      12988.242546\n",
       "min      48000.000000\n",
       "25%      58000.000000\n",
       "50%      67000.000000\n",
       "75%      72000.000000\n",
       "max      92000.000000\n",
       "Name: Salary, dtype: float64"
      ]
     },
     "execution_count": 16,
     "metadata": {},
     "output_type": "execute_result"
    }
   ],
   "source": [
    "df['Salary'].describe()"
   ]
  },
  {
   "cell_type": "code",
   "execution_count": 25,
   "metadata": {},
   "outputs": [
    {
     "data": {
      "image/png": "[encoded data removed]",
      "text/plain": [
       "<Figure size 800x500 with 1 Axes>"
      ]
     },
     "metadata": {},
     "output_type": "display_data"
    }
   ],
   "source": [
    "import matplotlib.pyplot as plt\n",
    "import pandas as pd  \n",
    "\n",
    "# Example DataFrame (remove this line if df is already defined)\n",
    "# df = pd.read_csv('your_file.csv')  \n",
    "\n",
    "salary = df['Salary']\n",
    "\n",
    "plt.figure(figsize=(8, 5))  # Set figure size\n",
    "\n",
    "# Plot histogram\n",
    "salary.plot.hist(title='Salary Distribution', color='grey', bins=25, edgecolor='black', alpha=0.7)\n",
    "\n",
    "# Plot vertical lines for mean and median\n",
    "mean_salary = salary.mean()\n",
    "median_salary = salary.median()\n",
    "\n",
    "plt.axvline(mean_salary, color='violet', linestyle='dashed', linewidth=2, label=f'Mean: {mean_salary:,.2f}')\n",
    "plt.axvline(median_salary, color='red', linestyle='dashed', linewidth=2, label=f'Median: {median_salary:,.2f}')\n",
    "\n",
    "plt.xlabel('Salary')\n",
    "plt.ylabel('Frequency')\n",
    "\n",
    "# Add legend to display labels\n",
    "plt.legend()\n",
    "\n",
    "plt.grid(axis='y', linestyle='--', alpha=0.6)  # Optional grid for readability\n",
    "plt.show()\n"
   ]
  },
  {
   "cell_type": "code",
   "execution_count": null,
   "metadata": {},
   "outputs": [],
   "source": [
    "# Inferential Statistics \n"
   ]
  },
  {
   "cell_type": "code",
   "execution_count": null,
   "metadata": {},
   "outputs": [],
   "source": []
  }
 ],
 "metadata": {
  "kernelspec": {
   "display_name": "Python 3",
   "language": "python",
   "name": "python3"
  },
  "language_info": {
   "codemirror_mode": {
    "name": "ipython",
    "version": 3
   },
   "file_extension": ".py",
   "mimetype": "text/x-python",
   "name": "python",
   "nbconvert_exporter": "python",
   "pygments_lexer": "ipython3",
   "version": "3.12.1"
  }
 },
 "nbformat": 4,
 "nbformat_minor": 2
}
